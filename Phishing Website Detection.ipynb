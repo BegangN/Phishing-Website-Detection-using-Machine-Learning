{
 "cells": [
  {
   "cell_type": "markdown",
   "metadata": {},
   "source": [
    "## Phishing Website Detection using Machine Learning"
   ]
  },
  {
   "cell_type": "code",
   "execution_count": 1,
   "metadata": {},
   "outputs": [
    {
     "data": {
      "text/plain": [
       "'C:\\\\Users\\\\USER\\\\Downloads\\\\AI Final Assignment'"
      ]
     },
     "execution_count": 1,
     "metadata": {},
     "output_type": "execute_result"
    }
   ],
   "source": [
    "pwd"
   ]
  },
  {
   "cell_type": "markdown",
   "metadata": {},
   "source": [
    "## Importing Libraries"
   ]
  },
  {
   "cell_type": "code",
   "execution_count": 25,
   "metadata": {},
   "outputs": [],
   "source": [
    "import pandas as pd\n",
    "import numpy as np\n",
    "import seaborn as sns\n",
    "import matplotlib.pyplot as plt"
   ]
  },
  {
   "cell_type": "markdown",
   "metadata": {},
   "source": [
    "## Loading and reading the dataset"
   ]
  },
  {
   "cell_type": "code",
   "execution_count": 26,
   "metadata": {},
   "outputs": [
    {
     "data": {
      "text/html": [
       "<div>\n",
       "<style scoped>\n",
       "    .dataframe tbody tr th:only-of-type {\n",
       "        vertical-align: middle;\n",
       "    }\n",
       "\n",
       "    .dataframe tbody tr th {\n",
       "        vertical-align: top;\n",
       "    }\n",
       "\n",
       "    .dataframe thead th {\n",
       "        text-align: right;\n",
       "    }\n",
       "</style>\n",
       "<table border=\"1\" class=\"dataframe\">\n",
       "  <thead>\n",
       "    <tr style=\"text-align: right;\">\n",
       "      <th></th>\n",
       "      <th>Domain</th>\n",
       "      <th>Have_IP</th>\n",
       "      <th>Have_At</th>\n",
       "      <th>URL_Length</th>\n",
       "      <th>URL_Depth</th>\n",
       "      <th>Redirection</th>\n",
       "      <th>https_Domain</th>\n",
       "      <th>TinyURL</th>\n",
       "      <th>Prefix/Suffix</th>\n",
       "      <th>DNS_Record</th>\n",
       "      <th>Web_Traffic</th>\n",
       "      <th>Domain_Age</th>\n",
       "      <th>Domain_End</th>\n",
       "      <th>iFrame</th>\n",
       "      <th>Mouse_Over</th>\n",
       "      <th>Right_Click</th>\n",
       "      <th>Web_Forwards</th>\n",
       "      <th>Label</th>\n",
       "    </tr>\n",
       "  </thead>\n",
       "  <tbody>\n",
       "    <tr>\n",
       "      <th>0</th>\n",
       "      <td>graphicriver.net</td>\n",
       "      <td>0</td>\n",
       "      <td>0</td>\n",
       "      <td>1</td>\n",
       "      <td>1</td>\n",
       "      <td>0</td>\n",
       "      <td>0</td>\n",
       "      <td>0</td>\n",
       "      <td>0</td>\n",
       "      <td>0</td>\n",
       "      <td>1</td>\n",
       "      <td>1</td>\n",
       "      <td>1</td>\n",
       "      <td>0</td>\n",
       "      <td>0</td>\n",
       "      <td>1</td>\n",
       "      <td>0</td>\n",
       "      <td>0</td>\n",
       "    </tr>\n",
       "    <tr>\n",
       "      <th>1</th>\n",
       "      <td>ecnavi.jp</td>\n",
       "      <td>0</td>\n",
       "      <td>0</td>\n",
       "      <td>1</td>\n",
       "      <td>1</td>\n",
       "      <td>1</td>\n",
       "      <td>0</td>\n",
       "      <td>0</td>\n",
       "      <td>0</td>\n",
       "      <td>0</td>\n",
       "      <td>1</td>\n",
       "      <td>1</td>\n",
       "      <td>1</td>\n",
       "      <td>0</td>\n",
       "      <td>0</td>\n",
       "      <td>1</td>\n",
       "      <td>0</td>\n",
       "      <td>0</td>\n",
       "    </tr>\n",
       "    <tr>\n",
       "      <th>2</th>\n",
       "      <td>hubpages.com</td>\n",
       "      <td>0</td>\n",
       "      <td>0</td>\n",
       "      <td>1</td>\n",
       "      <td>1</td>\n",
       "      <td>0</td>\n",
       "      <td>0</td>\n",
       "      <td>0</td>\n",
       "      <td>0</td>\n",
       "      <td>0</td>\n",
       "      <td>1</td>\n",
       "      <td>0</td>\n",
       "      <td>1</td>\n",
       "      <td>0</td>\n",
       "      <td>0</td>\n",
       "      <td>1</td>\n",
       "      <td>0</td>\n",
       "      <td>0</td>\n",
       "    </tr>\n",
       "    <tr>\n",
       "      <th>3</th>\n",
       "      <td>extratorrent.cc</td>\n",
       "      <td>0</td>\n",
       "      <td>0</td>\n",
       "      <td>1</td>\n",
       "      <td>3</td>\n",
       "      <td>0</td>\n",
       "      <td>0</td>\n",
       "      <td>0</td>\n",
       "      <td>0</td>\n",
       "      <td>0</td>\n",
       "      <td>1</td>\n",
       "      <td>0</td>\n",
       "      <td>1</td>\n",
       "      <td>0</td>\n",
       "      <td>0</td>\n",
       "      <td>1</td>\n",
       "      <td>0</td>\n",
       "      <td>0</td>\n",
       "    </tr>\n",
       "    <tr>\n",
       "      <th>4</th>\n",
       "      <td>icicibank.com</td>\n",
       "      <td>0</td>\n",
       "      <td>0</td>\n",
       "      <td>1</td>\n",
       "      <td>3</td>\n",
       "      <td>0</td>\n",
       "      <td>0</td>\n",
       "      <td>0</td>\n",
       "      <td>0</td>\n",
       "      <td>0</td>\n",
       "      <td>1</td>\n",
       "      <td>0</td>\n",
       "      <td>1</td>\n",
       "      <td>0</td>\n",
       "      <td>0</td>\n",
       "      <td>1</td>\n",
       "      <td>0</td>\n",
       "      <td>0</td>\n",
       "    </tr>\n",
       "  </tbody>\n",
       "</table>\n",
       "</div>"
      ],
      "text/plain": [
       "             Domain  Have_IP  Have_At  URL_Length  URL_Depth  Redirection  \\\n",
       "0  graphicriver.net        0        0           1          1            0   \n",
       "1         ecnavi.jp        0        0           1          1            1   \n",
       "2      hubpages.com        0        0           1          1            0   \n",
       "3   extratorrent.cc        0        0           1          3            0   \n",
       "4     icicibank.com        0        0           1          3            0   \n",
       "\n",
       "   https_Domain  TinyURL  Prefix/Suffix  DNS_Record  Web_Traffic  Domain_Age  \\\n",
       "0             0        0              0           0            1           1   \n",
       "1             0        0              0           0            1           1   \n",
       "2             0        0              0           0            1           0   \n",
       "3             0        0              0           0            1           0   \n",
       "4             0        0              0           0            1           0   \n",
       "\n",
       "   Domain_End  iFrame  Mouse_Over  Right_Click  Web_Forwards  Label  \n",
       "0           1       0           0            1             0      0  \n",
       "1           1       0           0            1             0      0  \n",
       "2           1       0           0            1             0      0  \n",
       "3           1       0           0            1             0      0  \n",
       "4           1       0           0            1             0      0  "
      ]
     },
     "execution_count": 26,
     "metadata": {},
     "output_type": "execute_result"
    }
   ],
   "source": [
    "data = pd.read_csv('phishing.csv')\n",
    "\n",
    "#displaying the first 10 rows\n",
    "data.head(5)\n"
   ]
  },
  {
   "cell_type": "code",
   "execution_count": 4,
   "metadata": {
    "scrolled": true
   },
   "outputs": [
    {
     "data": {
      "text/html": [
       "<div>\n",
       "<style scoped>\n",
       "    .dataframe tbody tr th:only-of-type {\n",
       "        vertical-align: middle;\n",
       "    }\n",
       "\n",
       "    .dataframe tbody tr th {\n",
       "        vertical-align: top;\n",
       "    }\n",
       "\n",
       "    .dataframe thead th {\n",
       "        text-align: right;\n",
       "    }\n",
       "</style>\n",
       "<table border=\"1\" class=\"dataframe\">\n",
       "  <thead>\n",
       "    <tr style=\"text-align: right;\">\n",
       "      <th></th>\n",
       "      <th>0</th>\n",
       "      <th>1</th>\n",
       "      <th>2</th>\n",
       "      <th>3</th>\n",
       "      <th>4</th>\n",
       "      <th>5</th>\n",
       "      <th>6</th>\n",
       "      <th>7</th>\n",
       "      <th>8</th>\n",
       "      <th>9</th>\n",
       "    </tr>\n",
       "  </thead>\n",
       "  <tbody>\n",
       "    <tr>\n",
       "      <th>Domain</th>\n",
       "      <td>graphicriver.net</td>\n",
       "      <td>ecnavi.jp</td>\n",
       "      <td>hubpages.com</td>\n",
       "      <td>extratorrent.cc</td>\n",
       "      <td>icicibank.com</td>\n",
       "      <td>nypost.com</td>\n",
       "      <td>kienthuc.net.vn</td>\n",
       "      <td>thenextweb.com</td>\n",
       "      <td>tobogo.net</td>\n",
       "      <td>akhbarelyom.com</td>\n",
       "    </tr>\n",
       "    <tr>\n",
       "      <th>Have_IP</th>\n",
       "      <td>0</td>\n",
       "      <td>0</td>\n",
       "      <td>0</td>\n",
       "      <td>0</td>\n",
       "      <td>0</td>\n",
       "      <td>0</td>\n",
       "      <td>0</td>\n",
       "      <td>0</td>\n",
       "      <td>0</td>\n",
       "      <td>0</td>\n",
       "    </tr>\n",
       "    <tr>\n",
       "      <th>Have_At</th>\n",
       "      <td>0</td>\n",
       "      <td>0</td>\n",
       "      <td>0</td>\n",
       "      <td>0</td>\n",
       "      <td>0</td>\n",
       "      <td>0</td>\n",
       "      <td>0</td>\n",
       "      <td>0</td>\n",
       "      <td>0</td>\n",
       "      <td>0</td>\n",
       "    </tr>\n",
       "    <tr>\n",
       "      <th>URL_Length</th>\n",
       "      <td>1</td>\n",
       "      <td>1</td>\n",
       "      <td>1</td>\n",
       "      <td>1</td>\n",
       "      <td>1</td>\n",
       "      <td>1</td>\n",
       "      <td>1</td>\n",
       "      <td>1</td>\n",
       "      <td>1</td>\n",
       "      <td>1</td>\n",
       "    </tr>\n",
       "    <tr>\n",
       "      <th>URL_Depth</th>\n",
       "      <td>1</td>\n",
       "      <td>1</td>\n",
       "      <td>1</td>\n",
       "      <td>3</td>\n",
       "      <td>3</td>\n",
       "      <td>4</td>\n",
       "      <td>2</td>\n",
       "      <td>6</td>\n",
       "      <td>2</td>\n",
       "      <td>5</td>\n",
       "    </tr>\n",
       "    <tr>\n",
       "      <th>Redirection</th>\n",
       "      <td>0</td>\n",
       "      <td>1</td>\n",
       "      <td>0</td>\n",
       "      <td>0</td>\n",
       "      <td>0</td>\n",
       "      <td>0</td>\n",
       "      <td>0</td>\n",
       "      <td>0</td>\n",
       "      <td>0</td>\n",
       "      <td>0</td>\n",
       "    </tr>\n",
       "    <tr>\n",
       "      <th>https_Domain</th>\n",
       "      <td>0</td>\n",
       "      <td>0</td>\n",
       "      <td>0</td>\n",
       "      <td>0</td>\n",
       "      <td>0</td>\n",
       "      <td>0</td>\n",
       "      <td>0</td>\n",
       "      <td>0</td>\n",
       "      <td>0</td>\n",
       "      <td>0</td>\n",
       "    </tr>\n",
       "    <tr>\n",
       "      <th>TinyURL</th>\n",
       "      <td>0</td>\n",
       "      <td>0</td>\n",
       "      <td>0</td>\n",
       "      <td>0</td>\n",
       "      <td>0</td>\n",
       "      <td>1</td>\n",
       "      <td>0</td>\n",
       "      <td>0</td>\n",
       "      <td>0</td>\n",
       "      <td>0</td>\n",
       "    </tr>\n",
       "    <tr>\n",
       "      <th>Prefix/Suffix</th>\n",
       "      <td>0</td>\n",
       "      <td>0</td>\n",
       "      <td>0</td>\n",
       "      <td>0</td>\n",
       "      <td>0</td>\n",
       "      <td>0</td>\n",
       "      <td>0</td>\n",
       "      <td>0</td>\n",
       "      <td>0</td>\n",
       "      <td>0</td>\n",
       "    </tr>\n",
       "    <tr>\n",
       "      <th>DNS_Record</th>\n",
       "      <td>0</td>\n",
       "      <td>0</td>\n",
       "      <td>0</td>\n",
       "      <td>0</td>\n",
       "      <td>0</td>\n",
       "      <td>0</td>\n",
       "      <td>1</td>\n",
       "      <td>0</td>\n",
       "      <td>0</td>\n",
       "      <td>0</td>\n",
       "    </tr>\n",
       "    <tr>\n",
       "      <th>Web_Traffic</th>\n",
       "      <td>1</td>\n",
       "      <td>1</td>\n",
       "      <td>1</td>\n",
       "      <td>1</td>\n",
       "      <td>1</td>\n",
       "      <td>1</td>\n",
       "      <td>1</td>\n",
       "      <td>1</td>\n",
       "      <td>1</td>\n",
       "      <td>1</td>\n",
       "    </tr>\n",
       "    <tr>\n",
       "      <th>Domain_Age</th>\n",
       "      <td>1</td>\n",
       "      <td>1</td>\n",
       "      <td>0</td>\n",
       "      <td>0</td>\n",
       "      <td>0</td>\n",
       "      <td>1</td>\n",
       "      <td>1</td>\n",
       "      <td>0</td>\n",
       "      <td>0</td>\n",
       "      <td>0</td>\n",
       "    </tr>\n",
       "    <tr>\n",
       "      <th>Domain_End</th>\n",
       "      <td>1</td>\n",
       "      <td>1</td>\n",
       "      <td>1</td>\n",
       "      <td>1</td>\n",
       "      <td>1</td>\n",
       "      <td>1</td>\n",
       "      <td>1</td>\n",
       "      <td>0</td>\n",
       "      <td>0</td>\n",
       "      <td>1</td>\n",
       "    </tr>\n",
       "    <tr>\n",
       "      <th>iFrame</th>\n",
       "      <td>0</td>\n",
       "      <td>0</td>\n",
       "      <td>0</td>\n",
       "      <td>0</td>\n",
       "      <td>0</td>\n",
       "      <td>0</td>\n",
       "      <td>0</td>\n",
       "      <td>0</td>\n",
       "      <td>0</td>\n",
       "      <td>0</td>\n",
       "    </tr>\n",
       "    <tr>\n",
       "      <th>Mouse_Over</th>\n",
       "      <td>0</td>\n",
       "      <td>0</td>\n",
       "      <td>0</td>\n",
       "      <td>0</td>\n",
       "      <td>0</td>\n",
       "      <td>0</td>\n",
       "      <td>0</td>\n",
       "      <td>0</td>\n",
       "      <td>0</td>\n",
       "      <td>0</td>\n",
       "    </tr>\n",
       "    <tr>\n",
       "      <th>Right_Click</th>\n",
       "      <td>1</td>\n",
       "      <td>1</td>\n",
       "      <td>1</td>\n",
       "      <td>1</td>\n",
       "      <td>1</td>\n",
       "      <td>1</td>\n",
       "      <td>1</td>\n",
       "      <td>1</td>\n",
       "      <td>1</td>\n",
       "      <td>1</td>\n",
       "    </tr>\n",
       "    <tr>\n",
       "      <th>Web_Forwards</th>\n",
       "      <td>0</td>\n",
       "      <td>0</td>\n",
       "      <td>0</td>\n",
       "      <td>0</td>\n",
       "      <td>0</td>\n",
       "      <td>0</td>\n",
       "      <td>0</td>\n",
       "      <td>0</td>\n",
       "      <td>0</td>\n",
       "      <td>0</td>\n",
       "    </tr>\n",
       "    <tr>\n",
       "      <th>Label</th>\n",
       "      <td>0</td>\n",
       "      <td>0</td>\n",
       "      <td>0</td>\n",
       "      <td>0</td>\n",
       "      <td>0</td>\n",
       "      <td>0</td>\n",
       "      <td>0</td>\n",
       "      <td>0</td>\n",
       "      <td>0</td>\n",
       "      <td>0</td>\n",
       "    </tr>\n",
       "  </tbody>\n",
       "</table>\n",
       "</div>"
      ],
      "text/plain": [
       "                              0          1             2                3  \\\n",
       "Domain         graphicriver.net  ecnavi.jp  hubpages.com  extratorrent.cc   \n",
       "Have_IP                       0          0             0                0   \n",
       "Have_At                       0          0             0                0   \n",
       "URL_Length                    1          1             1                1   \n",
       "URL_Depth                     1          1             1                3   \n",
       "Redirection                   0          1             0                0   \n",
       "https_Domain                  0          0             0                0   \n",
       "TinyURL                       0          0             0                0   \n",
       "Prefix/Suffix                 0          0             0                0   \n",
       "DNS_Record                    0          0             0                0   \n",
       "Web_Traffic                   1          1             1                1   \n",
       "Domain_Age                    1          1             0                0   \n",
       "Domain_End                    1          1             1                1   \n",
       "iFrame                        0          0             0                0   \n",
       "Mouse_Over                    0          0             0                0   \n",
       "Right_Click                   1          1             1                1   \n",
       "Web_Forwards                  0          0             0                0   \n",
       "Label                         0          0             0                0   \n",
       "\n",
       "                           4           5                6               7  \\\n",
       "Domain         icicibank.com  nypost.com  kienthuc.net.vn  thenextweb.com   \n",
       "Have_IP                    0           0                0               0   \n",
       "Have_At                    0           0                0               0   \n",
       "URL_Length                 1           1                1               1   \n",
       "URL_Depth                  3           4                2               6   \n",
       "Redirection                0           0                0               0   \n",
       "https_Domain               0           0                0               0   \n",
       "TinyURL                    0           1                0               0   \n",
       "Prefix/Suffix              0           0                0               0   \n",
       "DNS_Record                 0           0                1               0   \n",
       "Web_Traffic                1           1                1               1   \n",
       "Domain_Age                 0           1                1               0   \n",
       "Domain_End                 1           1                1               0   \n",
       "iFrame                     0           0                0               0   \n",
       "Mouse_Over                 0           0                0               0   \n",
       "Right_Click                1           1                1               1   \n",
       "Web_Forwards               0           0                0               0   \n",
       "Label                      0           0                0               0   \n",
       "\n",
       "                        8                9  \n",
       "Domain         tobogo.net  akhbarelyom.com  \n",
       "Have_IP                 0                0  \n",
       "Have_At                 0                0  \n",
       "URL_Length              1                1  \n",
       "URL_Depth               2                5  \n",
       "Redirection             0                0  \n",
       "https_Domain            0                0  \n",
       "TinyURL                 0                0  \n",
       "Prefix/Suffix           0                0  \n",
       "DNS_Record              0                0  \n",
       "Web_Traffic             1                1  \n",
       "Domain_Age              0                0  \n",
       "Domain_End              0                1  \n",
       "iFrame                  0                0  \n",
       "Mouse_Over              0                0  \n",
       "Right_Click             1                1  \n",
       "Web_Forwards            0                0  \n",
       "Label                   0                0  "
      ]
     },
     "execution_count": 4,
     "metadata": {},
     "output_type": "execute_result"
    }
   ],
   "source": [
    "#displaying data in ana easier manner to read\n",
    "data.head(10).T"
   ]
  },
  {
   "cell_type": "code",
   "execution_count": 5,
   "metadata": {},
   "outputs": [
    {
     "data": {
      "text/plain": [
       "(10000, 18)"
      ]
     },
     "execution_count": 5,
     "metadata": {},
     "output_type": "execute_result"
    }
   ],
   "source": [
    "#Displaying the shape of the data set\n",
    "\n",
    "data.shape"
   ]
  },
  {
   "cell_type": "code",
   "execution_count": 6,
   "metadata": {},
   "outputs": [
    {
     "name": "stdout",
     "output_type": "stream",
     "text": [
      "<class 'pandas.core.frame.DataFrame'>\n",
      "RangeIndex: 10000 entries, 0 to 9999\n",
      "Data columns (total 18 columns):\n",
      " #   Column         Non-Null Count  Dtype \n",
      "---  ------         --------------  ----- \n",
      " 0   Domain         10000 non-null  object\n",
      " 1   Have_IP        10000 non-null  int64 \n",
      " 2   Have_At        10000 non-null  int64 \n",
      " 3   URL_Length     10000 non-null  int64 \n",
      " 4   URL_Depth      10000 non-null  int64 \n",
      " 5   Redirection    10000 non-null  int64 \n",
      " 6   https_Domain   10000 non-null  int64 \n",
      " 7   TinyURL        10000 non-null  int64 \n",
      " 8   Prefix/Suffix  10000 non-null  int64 \n",
      " 9   DNS_Record     10000 non-null  int64 \n",
      " 10  Web_Traffic    10000 non-null  int64 \n",
      " 11  Domain_Age     10000 non-null  int64 \n",
      " 12  Domain_End     10000 non-null  int64 \n",
      " 13  iFrame         10000 non-null  int64 \n",
      " 14  Mouse_Over     10000 non-null  int64 \n",
      " 15  Right_Click    10000 non-null  int64 \n",
      " 16  Web_Forwards   10000 non-null  int64 \n",
      " 17  Label          10000 non-null  int64 \n",
      "dtypes: int64(17), object(1)\n",
      "memory usage: 1.4+ MB\n"
     ]
    }
   ],
   "source": [
    "#Displaying a summary of the dataset\n",
    "data.info()"
   ]
  },
  {
   "cell_type": "markdown",
   "metadata": {},
   "source": [
    "## Data Preprocessing \n",
    "Here, we clean the data by applying data preprocesssing techniques and transform the data to use it in the models."
   ]
  },
  {
   "cell_type": "code",
   "execution_count": 7,
   "metadata": {
    "scrolled": true
   },
   "outputs": [
    {
     "data": {
      "text/html": [
       "<div>\n",
       "<style scoped>\n",
       "    .dataframe tbody tr th:only-of-type {\n",
       "        vertical-align: middle;\n",
       "    }\n",
       "\n",
       "    .dataframe tbody tr th {\n",
       "        vertical-align: top;\n",
       "    }\n",
       "\n",
       "    .dataframe thead th {\n",
       "        text-align: right;\n",
       "    }\n",
       "</style>\n",
       "<table border=\"1\" class=\"dataframe\">\n",
       "  <thead>\n",
       "    <tr style=\"text-align: right;\">\n",
       "      <th></th>\n",
       "      <th>Have_IP</th>\n",
       "      <th>Have_At</th>\n",
       "      <th>URL_Length</th>\n",
       "      <th>URL_Depth</th>\n",
       "      <th>Redirection</th>\n",
       "      <th>https_Domain</th>\n",
       "      <th>TinyURL</th>\n",
       "      <th>Prefix/Suffix</th>\n",
       "      <th>DNS_Record</th>\n",
       "      <th>Web_Traffic</th>\n",
       "      <th>Domain_Age</th>\n",
       "      <th>Domain_End</th>\n",
       "      <th>iFrame</th>\n",
       "      <th>Mouse_Over</th>\n",
       "      <th>Right_Click</th>\n",
       "      <th>Web_Forwards</th>\n",
       "      <th>Label</th>\n",
       "    </tr>\n",
       "  </thead>\n",
       "  <tbody>\n",
       "    <tr>\n",
       "      <th>count</th>\n",
       "      <td>10000.000000</td>\n",
       "      <td>10000.000000</td>\n",
       "      <td>10000.000000</td>\n",
       "      <td>10000.000000</td>\n",
       "      <td>10000.000000</td>\n",
       "      <td>10000.000000</td>\n",
       "      <td>10000.000000</td>\n",
       "      <td>10000.000000</td>\n",
       "      <td>10000.000000</td>\n",
       "      <td>10000.000000</td>\n",
       "      <td>10000.000000</td>\n",
       "      <td>10000.0000</td>\n",
       "      <td>10000.000000</td>\n",
       "      <td>10000.00000</td>\n",
       "      <td>10000.00000</td>\n",
       "      <td>10000.000000</td>\n",
       "      <td>10000.000000</td>\n",
       "    </tr>\n",
       "    <tr>\n",
       "      <th>mean</th>\n",
       "      <td>0.005500</td>\n",
       "      <td>0.022600</td>\n",
       "      <td>0.773400</td>\n",
       "      <td>3.072000</td>\n",
       "      <td>0.013500</td>\n",
       "      <td>0.000200</td>\n",
       "      <td>0.090300</td>\n",
       "      <td>0.093200</td>\n",
       "      <td>0.100800</td>\n",
       "      <td>0.845700</td>\n",
       "      <td>0.413700</td>\n",
       "      <td>0.8099</td>\n",
       "      <td>0.090900</td>\n",
       "      <td>0.06660</td>\n",
       "      <td>0.99930</td>\n",
       "      <td>0.105300</td>\n",
       "      <td>0.500000</td>\n",
       "    </tr>\n",
       "    <tr>\n",
       "      <th>std</th>\n",
       "      <td>0.073961</td>\n",
       "      <td>0.148632</td>\n",
       "      <td>0.418653</td>\n",
       "      <td>2.128631</td>\n",
       "      <td>0.115408</td>\n",
       "      <td>0.014141</td>\n",
       "      <td>0.286625</td>\n",
       "      <td>0.290727</td>\n",
       "      <td>0.301079</td>\n",
       "      <td>0.361254</td>\n",
       "      <td>0.492521</td>\n",
       "      <td>0.3924</td>\n",
       "      <td>0.287481</td>\n",
       "      <td>0.24934</td>\n",
       "      <td>0.02645</td>\n",
       "      <td>0.306955</td>\n",
       "      <td>0.500025</td>\n",
       "    </tr>\n",
       "    <tr>\n",
       "      <th>min</th>\n",
       "      <td>0.000000</td>\n",
       "      <td>0.000000</td>\n",
       "      <td>0.000000</td>\n",
       "      <td>0.000000</td>\n",
       "      <td>0.000000</td>\n",
       "      <td>0.000000</td>\n",
       "      <td>0.000000</td>\n",
       "      <td>0.000000</td>\n",
       "      <td>0.000000</td>\n",
       "      <td>0.000000</td>\n",
       "      <td>0.000000</td>\n",
       "      <td>0.0000</td>\n",
       "      <td>0.000000</td>\n",
       "      <td>0.00000</td>\n",
       "      <td>0.00000</td>\n",
       "      <td>0.000000</td>\n",
       "      <td>0.000000</td>\n",
       "    </tr>\n",
       "    <tr>\n",
       "      <th>25%</th>\n",
       "      <td>0.000000</td>\n",
       "      <td>0.000000</td>\n",
       "      <td>1.000000</td>\n",
       "      <td>2.000000</td>\n",
       "      <td>0.000000</td>\n",
       "      <td>0.000000</td>\n",
       "      <td>0.000000</td>\n",
       "      <td>0.000000</td>\n",
       "      <td>0.000000</td>\n",
       "      <td>1.000000</td>\n",
       "      <td>0.000000</td>\n",
       "      <td>1.0000</td>\n",
       "      <td>0.000000</td>\n",
       "      <td>0.00000</td>\n",
       "      <td>1.00000</td>\n",
       "      <td>0.000000</td>\n",
       "      <td>0.000000</td>\n",
       "    </tr>\n",
       "    <tr>\n",
       "      <th>50%</th>\n",
       "      <td>0.000000</td>\n",
       "      <td>0.000000</td>\n",
       "      <td>1.000000</td>\n",
       "      <td>3.000000</td>\n",
       "      <td>0.000000</td>\n",
       "      <td>0.000000</td>\n",
       "      <td>0.000000</td>\n",
       "      <td>0.000000</td>\n",
       "      <td>0.000000</td>\n",
       "      <td>1.000000</td>\n",
       "      <td>0.000000</td>\n",
       "      <td>1.0000</td>\n",
       "      <td>0.000000</td>\n",
       "      <td>0.00000</td>\n",
       "      <td>1.00000</td>\n",
       "      <td>0.000000</td>\n",
       "      <td>0.500000</td>\n",
       "    </tr>\n",
       "    <tr>\n",
       "      <th>75%</th>\n",
       "      <td>0.000000</td>\n",
       "      <td>0.000000</td>\n",
       "      <td>1.000000</td>\n",
       "      <td>4.000000</td>\n",
       "      <td>0.000000</td>\n",
       "      <td>0.000000</td>\n",
       "      <td>0.000000</td>\n",
       "      <td>0.000000</td>\n",
       "      <td>0.000000</td>\n",
       "      <td>1.000000</td>\n",
       "      <td>1.000000</td>\n",
       "      <td>1.0000</td>\n",
       "      <td>0.000000</td>\n",
       "      <td>0.00000</td>\n",
       "      <td>1.00000</td>\n",
       "      <td>0.000000</td>\n",
       "      <td>1.000000</td>\n",
       "    </tr>\n",
       "    <tr>\n",
       "      <th>max</th>\n",
       "      <td>1.000000</td>\n",
       "      <td>1.000000</td>\n",
       "      <td>1.000000</td>\n",
       "      <td>20.000000</td>\n",
       "      <td>1.000000</td>\n",
       "      <td>1.000000</td>\n",
       "      <td>1.000000</td>\n",
       "      <td>1.000000</td>\n",
       "      <td>1.000000</td>\n",
       "      <td>1.000000</td>\n",
       "      <td>1.000000</td>\n",
       "      <td>1.0000</td>\n",
       "      <td>1.000000</td>\n",
       "      <td>1.00000</td>\n",
       "      <td>1.00000</td>\n",
       "      <td>1.000000</td>\n",
       "      <td>1.000000</td>\n",
       "    </tr>\n",
       "  </tbody>\n",
       "</table>\n",
       "</div>"
      ],
      "text/plain": [
       "            Have_IP       Have_At    URL_Length     URL_Depth   Redirection  \\\n",
       "count  10000.000000  10000.000000  10000.000000  10000.000000  10000.000000   \n",
       "mean       0.005500      0.022600      0.773400      3.072000      0.013500   \n",
       "std        0.073961      0.148632      0.418653      2.128631      0.115408   \n",
       "min        0.000000      0.000000      0.000000      0.000000      0.000000   \n",
       "25%        0.000000      0.000000      1.000000      2.000000      0.000000   \n",
       "50%        0.000000      0.000000      1.000000      3.000000      0.000000   \n",
       "75%        0.000000      0.000000      1.000000      4.000000      0.000000   \n",
       "max        1.000000      1.000000      1.000000     20.000000      1.000000   \n",
       "\n",
       "       https_Domain       TinyURL  Prefix/Suffix    DNS_Record   Web_Traffic  \\\n",
       "count  10000.000000  10000.000000   10000.000000  10000.000000  10000.000000   \n",
       "mean       0.000200      0.090300       0.093200      0.100800      0.845700   \n",
       "std        0.014141      0.286625       0.290727      0.301079      0.361254   \n",
       "min        0.000000      0.000000       0.000000      0.000000      0.000000   \n",
       "25%        0.000000      0.000000       0.000000      0.000000      1.000000   \n",
       "50%        0.000000      0.000000       0.000000      0.000000      1.000000   \n",
       "75%        0.000000      0.000000       0.000000      0.000000      1.000000   \n",
       "max        1.000000      1.000000       1.000000      1.000000      1.000000   \n",
       "\n",
       "         Domain_Age  Domain_End        iFrame   Mouse_Over  Right_Click  \\\n",
       "count  10000.000000  10000.0000  10000.000000  10000.00000  10000.00000   \n",
       "mean       0.413700      0.8099      0.090900      0.06660      0.99930   \n",
       "std        0.492521      0.3924      0.287481      0.24934      0.02645   \n",
       "min        0.000000      0.0000      0.000000      0.00000      0.00000   \n",
       "25%        0.000000      1.0000      0.000000      0.00000      1.00000   \n",
       "50%        0.000000      1.0000      0.000000      0.00000      1.00000   \n",
       "75%        1.000000      1.0000      0.000000      0.00000      1.00000   \n",
       "max        1.000000      1.0000      1.000000      1.00000      1.00000   \n",
       "\n",
       "       Web_Forwards         Label  \n",
       "count  10000.000000  10000.000000  \n",
       "mean       0.105300      0.500000  \n",
       "std        0.306955      0.500025  \n",
       "min        0.000000      0.000000  \n",
       "25%        0.000000      0.000000  \n",
       "50%        0.000000      0.500000  \n",
       "75%        0.000000      1.000000  \n",
       "max        1.000000      1.000000  "
      ]
     },
     "execution_count": 7,
     "metadata": {},
     "output_type": "execute_result"
    }
   ],
   "source": [
    "#Displaying a stastical summary of the dataset\n",
    "data.describe()"
   ]
  },
  {
   "cell_type": "markdown",
   "metadata": {},
   "source": [
    "The above obtained result shows that the most of the data is made of 0's & 1's except 'Domain' & 'URL_Depth' columns. The Domain column doesnt have any significance to the machine learning model training. This resulted in the decision to drop the  *'Domain'* column from the dataset. "
   ]
  },
  {
   "cell_type": "code",
   "execution_count": 27,
   "metadata": {},
   "outputs": [],
   "source": [
    "#Dropping the Domain column\n",
    "data = data.drop(['Domain'], axis = 1).copy()"
   ]
  },
  {
   "cell_type": "markdown",
   "metadata": {},
   "source": [
    "This leaves the dataset with 16 features & a target column."
   ]
  },
  {
   "cell_type": "code",
   "execution_count": 9,
   "metadata": {},
   "outputs": [
    {
     "data": {
      "text/plain": [
       "Have_IP          0\n",
       "Have_At          0\n",
       "URL_Length       0\n",
       "URL_Depth        0\n",
       "Redirection      0\n",
       "https_Domain     0\n",
       "TinyURL          0\n",
       "Prefix/Suffix    0\n",
       "DNS_Record       0\n",
       "Web_Traffic      0\n",
       "Domain_Age       0\n",
       "Domain_End       0\n",
       "iFrame           0\n",
       "Mouse_Over       0\n",
       "Right_Click      0\n",
       "Web_Forwards     0\n",
       "Label            0\n",
       "dtype: int64"
      ]
     },
     "execution_count": 9,
     "metadata": {},
     "output_type": "execute_result"
    }
   ],
   "source": [
    "#Counting and checking for null values\n",
    "data.isnull().sum()"
   ]
  },
  {
   "cell_type": "markdown",
   "metadata": {},
   "source": [
    "To have the same range of feature values while splitting the data into training & testing sets, we need to shuffle the data"
   ]
  },
  {
   "cell_type": "code",
   "execution_count": 10,
   "metadata": {},
   "outputs": [
    {
     "data": {
      "text/html": [
       "<div>\n",
       "<style scoped>\n",
       "    .dataframe tbody tr th:only-of-type {\n",
       "        vertical-align: middle;\n",
       "    }\n",
       "\n",
       "    .dataframe tbody tr th {\n",
       "        vertical-align: top;\n",
       "    }\n",
       "\n",
       "    .dataframe thead th {\n",
       "        text-align: right;\n",
       "    }\n",
       "</style>\n",
       "<table border=\"1\" class=\"dataframe\">\n",
       "  <thead>\n",
       "    <tr style=\"text-align: right;\">\n",
       "      <th></th>\n",
       "      <th>Have_IP</th>\n",
       "      <th>Have_At</th>\n",
       "      <th>URL_Length</th>\n",
       "      <th>URL_Depth</th>\n",
       "      <th>Redirection</th>\n",
       "      <th>https_Domain</th>\n",
       "      <th>TinyURL</th>\n",
       "      <th>Prefix/Suffix</th>\n",
       "      <th>DNS_Record</th>\n",
       "      <th>Web_Traffic</th>\n",
       "      <th>Domain_Age</th>\n",
       "      <th>Domain_End</th>\n",
       "      <th>iFrame</th>\n",
       "      <th>Mouse_Over</th>\n",
       "      <th>Right_Click</th>\n",
       "      <th>Web_Forwards</th>\n",
       "      <th>Label</th>\n",
       "    </tr>\n",
       "  </thead>\n",
       "  <tbody>\n",
       "    <tr>\n",
       "      <th>0</th>\n",
       "      <td>0</td>\n",
       "      <td>0</td>\n",
       "      <td>1</td>\n",
       "      <td>6</td>\n",
       "      <td>0</td>\n",
       "      <td>0</td>\n",
       "      <td>0</td>\n",
       "      <td>0</td>\n",
       "      <td>0</td>\n",
       "      <td>1</td>\n",
       "      <td>0</td>\n",
       "      <td>0</td>\n",
       "      <td>0</td>\n",
       "      <td>0</td>\n",
       "      <td>1</td>\n",
       "      <td>0</td>\n",
       "      <td>1</td>\n",
       "    </tr>\n",
       "    <tr>\n",
       "      <th>1</th>\n",
       "      <td>0</td>\n",
       "      <td>0</td>\n",
       "      <td>1</td>\n",
       "      <td>2</td>\n",
       "      <td>0</td>\n",
       "      <td>0</td>\n",
       "      <td>0</td>\n",
       "      <td>0</td>\n",
       "      <td>0</td>\n",
       "      <td>1</td>\n",
       "      <td>0</td>\n",
       "      <td>1</td>\n",
       "      <td>0</td>\n",
       "      <td>0</td>\n",
       "      <td>1</td>\n",
       "      <td>0</td>\n",
       "      <td>0</td>\n",
       "    </tr>\n",
       "    <tr>\n",
       "      <th>2</th>\n",
       "      <td>0</td>\n",
       "      <td>0</td>\n",
       "      <td>1</td>\n",
       "      <td>5</td>\n",
       "      <td>0</td>\n",
       "      <td>0</td>\n",
       "      <td>0</td>\n",
       "      <td>0</td>\n",
       "      <td>0</td>\n",
       "      <td>1</td>\n",
       "      <td>1</td>\n",
       "      <td>1</td>\n",
       "      <td>0</td>\n",
       "      <td>0</td>\n",
       "      <td>1</td>\n",
       "      <td>0</td>\n",
       "      <td>1</td>\n",
       "    </tr>\n",
       "    <tr>\n",
       "      <th>3</th>\n",
       "      <td>0</td>\n",
       "      <td>0</td>\n",
       "      <td>0</td>\n",
       "      <td>0</td>\n",
       "      <td>0</td>\n",
       "      <td>0</td>\n",
       "      <td>0</td>\n",
       "      <td>0</td>\n",
       "      <td>0</td>\n",
       "      <td>0</td>\n",
       "      <td>0</td>\n",
       "      <td>0</td>\n",
       "      <td>0</td>\n",
       "      <td>0</td>\n",
       "      <td>1</td>\n",
       "      <td>0</td>\n",
       "      <td>1</td>\n",
       "    </tr>\n",
       "    <tr>\n",
       "      <th>4</th>\n",
       "      <td>0</td>\n",
       "      <td>0</td>\n",
       "      <td>0</td>\n",
       "      <td>0</td>\n",
       "      <td>0</td>\n",
       "      <td>0</td>\n",
       "      <td>0</td>\n",
       "      <td>0</td>\n",
       "      <td>0</td>\n",
       "      <td>1</td>\n",
       "      <td>1</td>\n",
       "      <td>1</td>\n",
       "      <td>0</td>\n",
       "      <td>0</td>\n",
       "      <td>1</td>\n",
       "      <td>0</td>\n",
       "      <td>1</td>\n",
       "    </tr>\n",
       "  </tbody>\n",
       "</table>\n",
       "</div>"
      ],
      "text/plain": [
       "   Have_IP  Have_At  URL_Length  URL_Depth  Redirection  https_Domain  \\\n",
       "0        0        0           1          6            0             0   \n",
       "1        0        0           1          2            0             0   \n",
       "2        0        0           1          5            0             0   \n",
       "3        0        0           0          0            0             0   \n",
       "4        0        0           0          0            0             0   \n",
       "\n",
       "   TinyURL  Prefix/Suffix  DNS_Record  Web_Traffic  Domain_Age  Domain_End  \\\n",
       "0        0              0           0            1           0           0   \n",
       "1        0              0           0            1           0           1   \n",
       "2        0              0           0            1           1           1   \n",
       "3        0              0           0            0           0           0   \n",
       "4        0              0           0            1           1           1   \n",
       "\n",
       "   iFrame  Mouse_Over  Right_Click  Web_Forwards  Label  \n",
       "0       0           0            1             0      1  \n",
       "1       0           0            1             0      0  \n",
       "2       0           0            1             0      1  \n",
       "3       0           0            1             0      1  \n",
       "4       0           0            1             0      1  "
      ]
     },
     "execution_count": 10,
     "metadata": {},
     "output_type": "execute_result"
    }
   ],
   "source": [
    "# shuffling the rows in the dataset so that when splitting the train and test set are equally distributed\n",
    "data = data.sample(frac=1).reset_index(drop=True)\n",
    "data.head()"
   ]
  },
  {
   "cell_type": "markdown",
   "metadata": {},
   "source": [
    "**Quick observation**: The dataset has no null values. So further processing will not be done such as replace or deleting null rows. data is ready for traning, before training we visualise the data"
   ]
  },
  {
   "cell_type": "markdown",
   "metadata": {},
   "source": [
    "## Visually Displaying data"
   ]
  },
  {
   "cell_type": "code",
   "execution_count": 11,
   "metadata": {},
   "outputs": [
    {
     "data": {
      "image/png": "[encoded data removed]",
      "text/plain": [
       "<Figure size 1080x1080 with 20 Axes>"
      ]
     },
     "metadata": {
      "needs_background": "light"
     },
     "output_type": "display_data"
    }
   ],
   "source": [
    "#Plotting the data distribution with a histogram\n",
    "data.hist(bins = 50,figsize = (15,15))\n",
    "plt.show()"
   ]
  },
  {
   "cell_type": "code",
   "execution_count": 12,
   "metadata": {},
   "outputs": [
    {
     "data": {
      "image/png": "[encoded data removed]",
      "text/plain": [
       "<Figure size 468x360 with 1 Axes>"
      ]
     },
     "metadata": {
      "needs_background": "light"
     },
     "output_type": "display_data"
    }
   ],
   "source": [
    "#overall distribution of continuous data variables\n",
    "plot = sns.displot(data)"
   ]
  },
  {
   "cell_type": "code",
   "execution_count": 13,
   "metadata": {},
   "outputs": [
    {
     "data": {
      "image/png": "[encoded data removed]",
      "text/plain": [
       "<Figure size 1080x936 with 2 Axes>"
      ]
     },
     "metadata": {
      "needs_background": "light"
     },
     "output_type": "display_data"
    }
   ],
   "source": [
    "#Correlation heatmap\n",
    "\n",
    "plt.figure(figsize=(15,13))\n",
    "sns.heatmap(data.corr())\n",
    "plt.show()"
   ]
  },
  {
   "cell_type": "code",
   "execution_count": 14,
   "metadata": {},
   "outputs": [
    {
     "data": {
      "text/plain": [
       "<AxesSubplot:>"
      ]
     },
     "execution_count": 14,
     "metadata": {},
     "output_type": "execute_result"
    },
    {
     "data": {
      "image/png": "[encoded data removed]",
      "text/plain": [
       "<Figure size 1800x864 with 1 Axes>"
      ]
     },
     "metadata": {},
     "output_type": "display_data"
    }
   ],
   "source": [
    "sns.set(style=\"whitegrid\")\n",
    "data.boxplot(figsize=(25,12))"
   ]
  },
  {
   "cell_type": "markdown",
   "metadata": {},
   "source": []
  },
  {
   "cell_type": "markdown",
   "metadata": {},
   "source": [
    "## Training and Testing"
   ]
  },
  {
   "cell_type": "code",
   "execution_count": 20,
   "metadata": {},
   "outputs": [],
   "source": [
    "from sklearn.model_selection import train_test_split\n",
    "import sklearn.linear_model as lm\n",
    "from sklearn import metrics\n",
    "from sklearn.linear_model import LogisticRegression\n",
    "from sklearn.neighbors import KNeighborsClassifier\n",
    "from sklearn.ensemble import RandomForestClassifier\n",
    "from sklearn.tree import DecisionTreeClassifier\n",
    "from sklearn.neural_network import MLPClassifier\n",
    "from xgboost import XGBClassifier\n",
    "from sklearn.metrics import accuracy_score"
   ]
  },
  {
   "cell_type": "code",
   "execution_count": 21,
   "metadata": {},
   "outputs": [],
   "source": [
    "# Sepratating & assigning features and target columns to X & y\n",
    "y = data['Label']\n",
    "X = data.drop('Label',axis=1)"
   ]
  },
  {
   "cell_type": "code",
   "execution_count": 22,
   "metadata": {},
   "outputs": [],
   "source": [
    "# Splitting the dataset into train and test sets: 80-20 split\n",
    "\n",
    "X_train, X_test, y_train, y_test = train_test_split(X, y,test_size = 0.2, random_state = 12)"
   ]
  },
  {
   "cell_type": "markdown",
   "metadata": {},
   "source": [
    "## Machine Learning Models\n",
    "\n",
    "From the dataset above, We have learnt that this is a supervised machine learning.\n",
    "This dataset uses a  classification problem,  it has input URL classified as phishing (1) or legitimate (0).\n",
    "The supervised machine learning models (classification) considered to train the dataset in this notebook are:\n",
    "    \n",
    "* Decision Tree\n",
    "* LogisticRegression\n",
    "* RandomForestClassifiers\n",
    "* XGBoost\n",
    "* KNeighborsClassifier"
   ]
  },
  {
   "cell_type": "code",
   "execution_count": 18,
   "metadata": {},
   "outputs": [],
   "source": [
    "# Creating holders to store the model performance results\n",
    "ML_Model = []\n",
    "acc_train = []\n",
    "acc_test = []\n",
    "\n",
    "#function to call for storing the results\n",
    "def storeResults(model, a,b):\n",
    "  ML_Model.append(model)\n",
    "  acc_train.append(round(a, 3))\n",
    "  acc_test.append(round(b, 3))"
   ]
  },
  {
   "cell_type": "markdown",
   "metadata": {},
   "source": [
    "## LOGISTIC REGRESSION"
   ]
  },
  {
   "cell_type": "code",
   "execution_count": 23,
   "metadata": {},
   "outputs": [],
   "source": [
    "# instantiate the model \n",
    "model = LogisticRegression(max_iter=1000)\n",
    "# fit the model \n",
    "model.fit(X_train,np.ravel(y_train,order='C'))\n",
    "#predicting the target value from the model for the samples\n",
    "y_predict= model.predict(X_test)\n",
    "y_train_model = model.predict(X_train)\n",
    "y_test_model = model.predict(X_test)\n",
    "model_score=model.score(X_test, y_test)"
   ]
  },
  {
   "cell_type": "markdown",
   "metadata": {},
   "source": [
    "**Performance Evaluation:**"
   ]
  },
  {
   "cell_type": "code",
   "execution_count": 24,
   "metadata": {},
   "outputs": [
    {
     "name": "stdout",
     "output_type": "stream",
     "text": [
      "LogisticRegression: Accuracy on the Model:  0.797\n",
      "LogisticRegression: Accuracy on training Data: 0.805\n",
      "LogisticRegression: Accuracy on test Data: 0.797\n",
      "              precision    recall  f1-score   support\n",
      "\n",
      "           0       0.73      0.94      0.82      1004\n",
      "           1       0.92      0.65      0.76       996\n",
      "\n",
      "    accuracy                           0.80      2000\n",
      "   macro avg       0.82      0.80      0.79      2000\n",
      "weighted avg       0.82      0.80      0.79      2000\n",
      "\n",
      "[[944  60]\n",
      " [346 650]]\n"
     ]
    }
   ],
   "source": [
    "#computing the accuracy of the model performance\n",
    "acc_train_model = accuracy_score(y_train,y_train_model)\n",
    "acc_test_model = accuracy_score(y_test,y_test_model)\n",
    "\n",
    "print(\"LogisticRegression: Accuracy on the Model: \",model_score)\n",
    "print(\"LogisticRegression: Accuracy on training Data: {:.3f}\".format(acc_train_model))\n",
    "print(\"LogisticRegression: Accuracy on test Data: {:.3f}\".format(acc_test_model))\n",
    "print(metrics.classification_report(y_test, y_predict))\n",
    "print(metrics.confusion_matrix(y_test, y_predict))"
   ]
  },
  {
   "cell_type": "code",
   "execution_count": 39,
   "metadata": {},
   "outputs": [],
   "source": [
    "#storing the results. The below mentioned order of parameter passing is important.\n",
    "#Caution: Execute only once to avoid duplications.\n",
    "storeResults('LogisticRegression', acc_train_model, acc_test_model)"
   ]
  },
  {
   "cell_type": "markdown",
   "metadata": {},
   "source": [
    "## Decision Tree Classifier"
   ]
  },
  {
   "cell_type": "code",
   "execution_count": 63,
   "metadata": {},
   "outputs": [],
   "source": [
    "from sklearn.tree import DecisionTreeClassifier\n",
    "\n",
    "# instantiate the model \n",
    "tree = DecisionTreeClassifier(max_depth = 5)\n",
    "# fit the model \n",
    "tree.fit(X_train, y_train)\n",
    "#predicting the target value from the model for the samples\n",
    "y_test_tree = tree.predict(X_test)\n",
    "y_train_tree = tree.predict(X_train)\n",
    "\n",
    "tree_score=model.score(X_test, y_test)"
   ]
  },
  {
   "cell_type": "markdown",
   "metadata": {},
   "source": [
    "**Performance Evaluation:**"
   ]
  },
  {
   "cell_type": "code",
   "execution_count": 64,
   "metadata": {},
   "outputs": [
    {
     "name": "stdout",
     "output_type": "stream",
     "text": [
      "Decision Tree: Accuracy on the Model:  0.8005\n",
      "Decision Tree: Accuracy on training Data: 0.814\n",
      "Decision Tree: Accuracy on test Data: 0.811\n",
      "              precision    recall  f1-score   support\n",
      "\n",
      "           0       0.73      0.95      0.83      1011\n",
      "           1       0.92      0.65      0.76       989\n",
      "\n",
      "    accuracy                           0.80      2000\n",
      "   macro avg       0.83      0.80      0.80      2000\n",
      "weighted avg       0.83      0.80      0.80      2000\n",
      "\n",
      "[[958  53]\n",
      " [346 643]]\n"
     ]
    }
   ],
   "source": [
    "#computing the accuracy of the model performance\n",
    "acc_train_tree = accuracy_score(y_train,y_train_tree)\n",
    "acc_test_tree = accuracy_score(y_test,y_test_tree)\n",
    "\n",
    "print(\"Decision Tree: Accuracy on the Model: \",tree_score)\n",
    "print(\"Decision Tree: Accuracy on training Data: {:.3f}\".format(acc_train_tree))\n",
    "print(\"Decision Tree: Accuracy on test Data: {:.3f}\".format(acc_test_tree))\n",
    "print(metrics.classification_report(y_test, y_predict))\n",
    "print(metrics.confusion_matrix(y_test, y_predict))"
   ]
  },
  {
   "cell_type": "code",
   "execution_count": 42,
   "metadata": {},
   "outputs": [
    {
     "data": {
      "image/png": "[encoded data removed]",
      "text/plain": [
       "<Figure size 648x504 with 1 Axes>"
      ]
     },
     "metadata": {},
     "output_type": "display_data"
    }
   ],
   "source": [
    "#checking the feature importance in the model to highlight which features may be most relevant to the target\n",
    "plt.figure(figsize=(9,7))\n",
    "n_features = X_train.shape[1]\n",
    "plt.barh(range(n_features), tree.feature_importances_, align='center')\n",
    "plt.yticks(np.arange(n_features), X_train.columns)\n",
    "plt.xlabel(\"Feature importance\")\n",
    "plt.ylabel(\"Feature\")\n",
    "plt.show()"
   ]
  },
  {
   "cell_type": "code",
   "execution_count": 43,
   "metadata": {},
   "outputs": [],
   "source": [
    "#storing the results. The below mentioned order of parameter passing is important.\n",
    "#Caution: Execute only once to avoid duplications.\n",
    "storeResults('Decision Tree', acc_train_tree, acc_test_tree)"
   ]
  },
  {
   "cell_type": "markdown",
   "metadata": {},
   "source": [
    "## Random Forest Classifier"
   ]
  },
  {
   "cell_type": "code",
   "execution_count": 44,
   "metadata": {},
   "outputs": [],
   "source": [
    "# instantiate the model\n",
    "forest = RandomForestClassifier(max_depth=5)\n",
    "# fit the model \n",
    "forest.fit(X_train, y_train)\n",
    "#predicting the target value from the model for the samples\n",
    "y_test_forest = forest.predict(X_test)\n",
    "y_train_forest = forest.predict(X_train)\n",
    "model_score=model.score(X_test, y_test)"
   ]
  },
  {
   "cell_type": "markdown",
   "metadata": {},
   "source": [
    "**Performance Evaluation:**"
   ]
  },
  {
   "cell_type": "code",
   "execution_count": 45,
   "metadata": {},
   "outputs": [
    {
     "name": "stdout",
     "output_type": "stream",
     "text": [
      "Random forest: Accuracy on the Model:  0.8005\n",
      "Random forest: Accuracy on training Data: 0.819\n",
      "Random forest: Accuracy on test Data: 0.818\n",
      "              precision    recall  f1-score   support\n",
      "\n",
      "           0       0.73      0.95      0.83      1011\n",
      "           1       0.92      0.65      0.76       989\n",
      "\n",
      "    accuracy                           0.80      2000\n",
      "   macro avg       0.83      0.80      0.80      2000\n",
      "weighted avg       0.83      0.80      0.80      2000\n",
      "\n",
      "[[958  53]\n",
      " [346 643]]\n"
     ]
    }
   ],
   "source": [
    "#computing the accuracy of the model performance\n",
    "acc_train_forest = accuracy_score(y_train,y_train_forest)\n",
    "acc_test_forest = accuracy_score(y_test,y_test_forest)\n",
    "\n",
    "print(\"Random forest: Accuracy on the Model: \",model_score)\n",
    "print(\"Random forest: Accuracy on training Data: {:.3f}\".format(acc_train_forest))\n",
    "print(\"Random forest: Accuracy on test Data: {:.3f}\".format(acc_test_forest))\n",
    "print(metrics.classification_report(y_test, y_predict))\n",
    "print(metrics.confusion_matrix(y_test, y_predict))"
   ]
  },
  {
   "cell_type": "code",
   "execution_count": 46,
   "metadata": {},
   "outputs": [
    {
     "data": {
      "image/png": "[encoded data removed]",
      "text/plain": [
       "<Figure size 648x504 with 1 Axes>"
      ]
     },
     "metadata": {},
     "output_type": "display_data"
    }
   ],
   "source": [
    "#checking the feature importance in the model to highlight which features may be most relevant to the target\n",
    "plt.figure(figsize=(9,7))\n",
    "n_features = X_train.shape[1]\n",
    "plt.barh(range(n_features), tree.feature_importances_, align='center')\n",
    "plt.yticks(np.arange(n_features), X_train.columns)\n",
    "plt.xlabel(\"Feature importance\")\n",
    "plt.ylabel(\"Feature\")\n",
    "plt.show()"
   ]
  },
  {
   "cell_type": "code",
   "execution_count": 47,
   "metadata": {},
   "outputs": [],
   "source": [
    "#storing the results. The below mentioned order of parameter passing is important.\n",
    "#Caution: Execute only once to avoid duplications.\n",
    "storeResults('Random forest', acc_train_forest, acc_test_forest)"
   ]
  },
  {
   "cell_type": "markdown",
   "metadata": {},
   "source": [
    "## KNeighborsClassifier"
   ]
  },
  {
   "cell_type": "code",
   "execution_count": 48,
   "metadata": {},
   "outputs": [],
   "source": [
    "# instantiate the model\n",
    "knn = KNeighborsClassifier(n_neighbors =1)\n",
    "# fit the model \n",
    "knn.fit(X_train,np.ravel(y_train,order='C'))\n",
    "#predicting the target value from the model for the samples\n",
    "y_predict= knn.predict(X_test)\n",
    "\n",
    "#predicting the target value from the model for the samples\n",
    "y_test_knn = knn.predict(X_test)\n",
    "y_train_knn = knn.predict(X_train)\n",
    "model_score=knn.score(X_test, y_test)"
   ]
  },
  {
   "cell_type": "markdown",
   "metadata": {},
   "source": [
    "**Performance Evaluation:**"
   ]
  },
  {
   "cell_type": "code",
   "execution_count": 49,
   "metadata": {},
   "outputs": [
    {
     "name": "stdout",
     "output_type": "stream",
     "text": [
      "KNeighborsClassifier: Accuracy on the Model:  0.805\n",
      "KNeighborsClassifier: Accuracy on training Data: 0.816\n",
      "KNeighborsClassifier: Accuracy on test Data: 0.805\n",
      "              precision    recall  f1-score   support\n",
      "\n",
      "           0       0.79      0.83      0.81      1011\n",
      "           1       0.82      0.78      0.80       989\n",
      "\n",
      "    accuracy                           0.81      2000\n",
      "   macro avg       0.81      0.80      0.80      2000\n",
      "weighted avg       0.81      0.81      0.80      2000\n",
      "\n",
      "[[840 171]\n",
      " [219 770]]\n"
     ]
    }
   ],
   "source": [
    "#computing the accuracy of the model performance\n",
    "acc_train_knn = accuracy_score(y_train,y_train_knn)\n",
    "acc_test_knn = accuracy_score(y_test,y_test_knn)\n",
    "\n",
    "print(\"KNeighborsClassifier: Accuracy on the Model: \",model_score)\n",
    "print(\"KNeighborsClassifier: Accuracy on training Data: {:.3f}\".format(acc_train_knn))\n",
    "print(\"KNeighborsClassifier: Accuracy on test Data: {:.3f}\".format(acc_test_knn))\n",
    "print(metrics.classification_report(y_test, y_predict))\n",
    "print(metrics.confusion_matrix(y_test, y_predict))"
   ]
  },
  {
   "cell_type": "code",
   "execution_count": 50,
   "metadata": {},
   "outputs": [
    {
     "data": {
      "image/png": "[encoded data removed]",
      "text/plain": [
       "<Figure size 648x504 with 1 Axes>"
      ]
     },
     "metadata": {},
     "output_type": "display_data"
    }
   ],
   "source": [
    "#checking the feature importance in the model to highlight which features may be most relevant to the target\n",
    "plt.figure(figsize=(9,7))\n",
    "n_features = X_train.shape[1]\n",
    "plt.barh(range(n_features), tree.feature_importances_, align='center')\n",
    "plt.yticks(np.arange(n_features), X_train.columns)\n",
    "plt.xlabel(\"Feature importance\")\n",
    "plt.ylabel(\"Feature\")\n",
    "plt.show()"
   ]
  },
  {
   "cell_type": "code",
   "execution_count": 51,
   "metadata": {},
   "outputs": [],
   "source": [
    "#storing the results. The below mentioned order of parameter passing is important.\n",
    "#Caution: Execute only once to avoid duplications.\n",
    "storeResults('KNeighborsClassifier', acc_train_knn, acc_test_knn)"
   ]
  },
  {
   "cell_type": "markdown",
   "metadata": {},
   "source": [
    "## XGBoost Classifier"
   ]
  },
  {
   "cell_type": "code",
   "execution_count": 52,
   "metadata": {},
   "outputs": [
    {
     "name": "stdout",
     "output_type": "stream",
     "text": [
      "[20:11:25] WARNING: C:/Users/Administrator/workspace/xgboost-win64_release_1.3.0/src/learner.cc:1061: Starting in XGBoost 1.3.0, the default evaluation metric used with the objective 'binary:logistic' was changed from 'error' to 'logloss'. Explicitly set eval_metric if you'd like to restore the old behavior.\n"
     ]
    }
   ],
   "source": [
    "# instantiate the model\n",
    "xgb = XGBClassifier(use_label_encoder =False,learning_rate=0.4,max_depth=7)\n",
    "#fit the model\n",
    "xgb.fit(X_train, y_train)\n",
    "#predicting the target value from the model for the samples\n",
    "y_test_xgb = xgb.predict(X_test)\n",
    "y_train_xgb = xgb.predict(X_train)\n",
    "model_score=xgb.score(X_test, y_test)"
   ]
  },
  {
   "cell_type": "markdown",
   "metadata": {},
   "source": [
    "**Performance Evaluation:**"
   ]
  },
  {
   "cell_type": "code",
   "execution_count": 53,
   "metadata": {},
   "outputs": [
    {
     "name": "stdout",
     "output_type": "stream",
     "text": [
      "XGBoost: Accuracy on the Model:  0.857\n",
      "XGBoost: Accuracy on training Data: 0.869\n",
      "XGBoost : Accuracy on test Data: 0.857\n",
      "              precision    recall  f1-score   support\n",
      "\n",
      "           0       0.79      0.83      0.81      1011\n",
      "           1       0.82      0.78      0.80       989\n",
      "\n",
      "    accuracy                           0.81      2000\n",
      "   macro avg       0.81      0.80      0.80      2000\n",
      "weighted avg       0.81      0.81      0.80      2000\n",
      "\n",
      "[[840 171]\n",
      " [219 770]]\n"
     ]
    }
   ],
   "source": [
    "#computing the accuracy of the model performance\n",
    "acc_train_xgb = accuracy_score(y_train,y_train_xgb)\n",
    "acc_test_xgb = accuracy_score(y_test,y_test_xgb)\n",
    "\n",
    "print(\"XGBoost: Accuracy on the Model: \",model_score)\n",
    "print(\"XGBoost: Accuracy on training Data: {:.3f}\".format(acc_train_xgb))\n",
    "print(\"XGBoost : Accuracy on test Data: {:.3f}\".format(acc_test_xgb))\n",
    "print(metrics.classification_report(y_test, y_predict))\n",
    "print(metrics.confusion_matrix(y_test, y_predict))"
   ]
  },
  {
   "cell_type": "code",
   "execution_count": 54,
   "metadata": {},
   "outputs": [
    {
     "data": {
      "image/png": "[encoded data removed]",
      "text/plain": [
       "<Figure size 648x504 with 1 Axes>"
      ]
     },
     "metadata": {},
     "output_type": "display_data"
    }
   ],
   "source": [
    "#checking the feature importance in the model to highlight which features may be most relevant to the target\n",
    "plt.figure(figsize=(9,7))\n",
    "n_features = X_train.shape[1]\n",
    "plt.barh(range(n_features), tree.feature_importances_, align='center')\n",
    "plt.yticks(np.arange(n_features), X_train.columns)\n",
    "plt.xlabel(\"Feature importance\")\n",
    "plt.ylabel(\"Feature\")\n",
    "plt.show()"
   ]
  },
  {
   "cell_type": "code",
   "execution_count": 55,
   "metadata": {},
   "outputs": [],
   "source": [
    "#storing the results. The below mentioned order of parameter passing is important.\n",
    "#Caution: Execute only once to avoid duplications.\n",
    "storeResults('XGBoost', acc_train_xgb, acc_test_xgb)"
   ]
  },
  {
   "cell_type": "markdown",
   "metadata": {},
   "source": [
    "## Comparision of Models\n",
    "To compare the models performance, a dataframe is created. The columns of this dataframe are the lists created to store the results of the model."
   ]
  },
  {
   "cell_type": "code",
   "execution_count": 56,
   "metadata": {},
   "outputs": [
    {
     "data": {
      "text/html": [
       "<div>\n",
       "<style scoped>\n",
       "    .dataframe tbody tr th:only-of-type {\n",
       "        vertical-align: middle;\n",
       "    }\n",
       "\n",
       "    .dataframe tbody tr th {\n",
       "        vertical-align: top;\n",
       "    }\n",
       "\n",
       "    .dataframe thead th {\n",
       "        text-align: right;\n",
       "    }\n",
       "</style>\n",
       "<table border=\"1\" class=\"dataframe\">\n",
       "  <thead>\n",
       "    <tr style=\"text-align: right;\">\n",
       "      <th></th>\n",
       "      <th>ML Model</th>\n",
       "      <th>Train Accuracy</th>\n",
       "      <th>Test Accuracy</th>\n",
       "    </tr>\n",
       "  </thead>\n",
       "  <tbody>\n",
       "    <tr>\n",
       "      <th>0</th>\n",
       "      <td>LogisticRegression</td>\n",
       "      <td>0.805</td>\n",
       "      <td>0.800</td>\n",
       "    </tr>\n",
       "    <tr>\n",
       "      <th>1</th>\n",
       "      <td>Decision Tree</td>\n",
       "      <td>0.814</td>\n",
       "      <td>0.812</td>\n",
       "    </tr>\n",
       "    <tr>\n",
       "      <th>2</th>\n",
       "      <td>Random forest</td>\n",
       "      <td>0.819</td>\n",
       "      <td>0.818</td>\n",
       "    </tr>\n",
       "    <tr>\n",
       "      <th>3</th>\n",
       "      <td>KNeighborsClassifier</td>\n",
       "      <td>0.816</td>\n",
       "      <td>0.805</td>\n",
       "    </tr>\n",
       "    <tr>\n",
       "      <th>4</th>\n",
       "      <td>XGBoost</td>\n",
       "      <td>0.868</td>\n",
       "      <td>0.857</td>\n",
       "    </tr>\n",
       "  </tbody>\n",
       "</table>\n",
       "</div>"
      ],
      "text/plain": [
       "               ML Model  Train Accuracy  Test Accuracy\n",
       "0    LogisticRegression           0.805          0.800\n",
       "1         Decision Tree           0.814          0.812\n",
       "2         Random forest           0.819          0.818\n",
       "3  KNeighborsClassifier           0.816          0.805\n",
       "4               XGBoost           0.868          0.857"
      ]
     },
     "execution_count": 56,
     "metadata": {},
     "output_type": "execute_result"
    }
   ],
   "source": [
    "#creating dataframe\n",
    "results = pd.DataFrame({ 'ML Model': ML_Model,    \n",
    "    'Train Accuracy': acc_train,\n",
    "    'Test Accuracy': acc_test})\n",
    "results"
   ]
  },
  {
   "cell_type": "code",
   "execution_count": 57,
   "metadata": {},
   "outputs": [
    {
     "data": {
      "text/html": [
       "<div>\n",
       "<style scoped>\n",
       "    .dataframe tbody tr th:only-of-type {\n",
       "        vertical-align: middle;\n",
       "    }\n",
       "\n",
       "    .dataframe tbody tr th {\n",
       "        vertical-align: top;\n",
       "    }\n",
       "\n",
       "    .dataframe thead th {\n",
       "        text-align: right;\n",
       "    }\n",
       "</style>\n",
       "<table border=\"1\" class=\"dataframe\">\n",
       "  <thead>\n",
       "    <tr style=\"text-align: right;\">\n",
       "      <th></th>\n",
       "      <th>ML Model</th>\n",
       "      <th>Train Accuracy</th>\n",
       "      <th>Test Accuracy</th>\n",
       "    </tr>\n",
       "  </thead>\n",
       "  <tbody>\n",
       "    <tr>\n",
       "      <th>4</th>\n",
       "      <td>XGBoost</td>\n",
       "      <td>0.868</td>\n",
       "      <td>0.857</td>\n",
       "    </tr>\n",
       "    <tr>\n",
       "      <th>2</th>\n",
       "      <td>Random forest</td>\n",
       "      <td>0.819</td>\n",
       "      <td>0.818</td>\n",
       "    </tr>\n",
       "    <tr>\n",
       "      <th>1</th>\n",
       "      <td>Decision Tree</td>\n",
       "      <td>0.814</td>\n",
       "      <td>0.812</td>\n",
       "    </tr>\n",
       "    <tr>\n",
       "      <th>3</th>\n",
       "      <td>KNeighborsClassifier</td>\n",
       "      <td>0.816</td>\n",
       "      <td>0.805</td>\n",
       "    </tr>\n",
       "    <tr>\n",
       "      <th>0</th>\n",
       "      <td>LogisticRegression</td>\n",
       "      <td>0.805</td>\n",
       "      <td>0.800</td>\n",
       "    </tr>\n",
       "  </tbody>\n",
       "</table>\n",
       "</div>"
      ],
      "text/plain": [
       "               ML Model  Train Accuracy  Test Accuracy\n",
       "4               XGBoost           0.868          0.857\n",
       "2         Random forest           0.819          0.818\n",
       "1         Decision Tree           0.814          0.812\n",
       "3  KNeighborsClassifier           0.816          0.805\n",
       "0    LogisticRegression           0.805          0.800"
      ]
     },
     "execution_count": 57,
     "metadata": {},
     "output_type": "execute_result"
    }
   ],
   "source": [
    "#Sorting the datafram on accuracy\n",
    "results.sort_values(by=['Test Accuracy', 'Train Accuracy'], ascending=False)"
   ]
  },
  {
   "cell_type": "markdown",
   "metadata": {},
   "source": [
    "From the above comparision, it is clear that the XGBoost Classifier works well with this dataset. and can be used to further study the problem"
   ]
  },
  {
   "cell_type": "code",
   "execution_count": 58,
   "metadata": {},
   "outputs": [],
   "source": [
    "# save XGBoost model to file for future improvement and for deployment\n",
    "import pickle\n",
    "pickle.dump(xgb, open(\"XGBoostClassifier.pickle.dat\", \"wb\"))\n",
    "pickle.dump(xgb, open(\"phishing.pkl\", \"wb\"))"
   ]
  },
  {
   "cell_type": "markdown",
   "metadata": {},
   "source": [
    "**This is the end of the project. **"
   ]
  },
  {
   "cell_type": "code",
   "execution_count": null,
   "metadata": {},
   "outputs": [],
   "source": []
  }
 ],
 "metadata": {
  "kernelspec": {
   "display_name": "Python 3",
   "language": "python",
   "name": "python3"
  },
  "language_info": {
   "codemirror_mode": {
    "name": "ipython",
    "version": 3
   },
   "file_extension": ".py",
   "mimetype": "text/x-python",
   "name": "python",
   "nbconvert_exporter": "python",
   "pygments_lexer": "ipython3",
   "version": "3.8.5"
  }
 },
 "nbformat": 4,
 "nbformat_minor": 4
}
